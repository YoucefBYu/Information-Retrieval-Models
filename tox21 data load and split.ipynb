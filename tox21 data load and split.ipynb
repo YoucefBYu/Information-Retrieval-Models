{
  "nbformat": 4,
  "nbformat_minor": 0,
  "metadata": {
    "colab": {
      "name": "test.ipynb",
      "version": "0.3.2",
      "provenance": [],
      "collapsed_sections": []
    },
    "kernelspec": {
      "name": "python3",
      "display_name": "Python 3"
    },
    "accelerator": "GPU"
  },
  "cells": [
    {
      "metadata": {
        "id": "Ongx0CU_lawy",
        "colab_type": "code",
        "colab": {
          "base_uri": "https://localhost:8080/",
          "height": 491
        },
        "outputId": "83168cd6-44b5-4b7b-d7cd-a940cd612358"
      },
      "cell_type": "code",
      "source": [
        "pip install scikit-learn\n",
        "!wget -c https://repo.continuum.io/miniconda/Miniconda3-latest-Linux-x86_64.sh\n",
        "!chmod +x Miniconda3-latest-Linux-x86_64.sh\n",
        "!time bash ./Miniconda3-latest-Linux-x86_64.sh -b -f -p /usr/local\n",
        "!time conda install -q -y -c conda-forge rdkit\n",
        "\n",
        "%matplotlib inline\n",
        "import sys\n",
        "import os\n",
        "sys.path.append('/usr/local/lib/python3.7/site-packages/')\n",
        "\n",
        "#https://github.com/mordred-descriptor/mordred/blob/develop/README.rst\n",
        "#molecular descriptor calculator\n",
        "\n",
        "pip install 'mordred[full]'"
      ],
      "execution_count": 7,
      "outputs": [
        {
          "output_type": "stream",
          "text": [
            "Collecting mordred[full]\n",
            "\u001b[?25l  Downloading https://files.pythonhosted.org/packages/80/8d/70f26c38ba4bd3bda46791bef71b67bcb7442d6671f66459ad8feaa8eb22/mordred-1.1.2.tar.gz (127kB)\n",
            "\u001b[K    100% |████████████████████████████████| 133kB 3.8MB/s \n",
            "\u001b[33m  mordred 1.1.2 does not provide the extra 'full'\u001b[0m\n",
            "\u001b[?25hRequirement already satisfied: six==1.* in /usr/local/lib/python3.7/site-packages (from mordred[full]) (1.12.0)\n",
            "Requirement already satisfied: numpy==1.* in /usr/local/lib/python3.7/site-packages (from mordred[full]) (1.16.2)\n",
            "Collecting networkx==2.* (from mordred[full])\n",
            "\u001b[?25l  Downloading https://files.pythonhosted.org/packages/f3/f4/7e20ef40b118478191cec0b58c3192f822cace858c19505c7670961b76b2/networkx-2.2.zip (1.7MB)\n",
            "\u001b[K    100% |████████████████████████████████| 1.7MB 16.7MB/s \n",
            "\u001b[?25hCollecting tqdm==4.* (from mordred[full])\n",
            "\u001b[?25l  Downloading https://files.pythonhosted.org/packages/6c/4b/c38b5144cf167c4f52288517436ccafefe9dc01b8d1c190e18a6b154cd4a/tqdm-4.31.1-py2.py3-none-any.whl (48kB)\n",
            "\u001b[K    100% |████████████████████████████████| 51kB 18.4MB/s \n",
            "\u001b[?25hCollecting decorator>=4.3.0 (from networkx==2.*->mordred[full])\n",
            "  Downloading https://files.pythonhosted.org/packages/5f/88/0075e461560a1e750a0dcbf77f1d9de775028c37a19a346a6c565a257399/decorator-4.4.0-py2.py3-none-any.whl\n",
            "Building wheels for collected packages: mordred, networkx\n",
            "  Running setup.py bdist_wheel for mordred ... \u001b[?25ldone\n",
            "\u001b[?25h  Stored in directory: /root/.cache/pip/wheels/a0/c8/af/8ea12bf80e243f46c1b21d77bd4980a65e79f96e4f9ad039a8\n",
            "  Running setup.py bdist_wheel for networkx ... \u001b[?25ldone\n",
            "\u001b[?25h  Stored in directory: /root/.cache/pip/wheels/68/f8/29/b53346a112a07d30a5a84d53f19aeadaa1a474897c0423af91\n",
            "Successfully built mordred networkx\n",
            "Installing collected packages: decorator, networkx, tqdm, mordred\n",
            "Successfully installed decorator-4.4.0 mordred-1.1.2 networkx-2.2 tqdm-4.31.1\n"
          ],
          "name": "stdout"
        },
        {
          "output_type": "display_data",
          "data": {
            "application/vnd.colab-display-data+json": {
              "pip_warning": {
                "packages": [
                  "decorator"
                ]
              }
            }
          },
          "metadata": {
            "tags": []
          }
        }
      ]
    },
    {
      "metadata": {
        "id": "d2lbD42iYYVG",
        "colab_type": "code",
        "colab": {
          "base_uri": "https://localhost:8080/",
          "height": 121
        },
        "outputId": "e8070a75-e0b7-4d20-d1c1-7c9974687a5b"
      },
      "cell_type": "code",
      "source": [
        "pip install scikit-multilearn\n"
      ],
      "execution_count": 9,
      "outputs": [
        {
          "output_type": "stream",
          "text": [
            "Collecting scikit-multilearn\n",
            "\u001b[?25l  Downloading https://files.pythonhosted.org/packages/bb/1f/e6ff649c72a1cdf2c7a1d31eb21705110ce1c5d3e7e26b2cc300e1637272/scikit_multilearn-0.2.0-py3-none-any.whl (89kB)\n",
            "\r\u001b[K    11% |███▊                            | 10kB 12.5MB/s eta 0:00:01\r\u001b[K    22% |███████▍                        | 20kB 1.7MB/s eta 0:00:01\r\u001b[K    34% |███████████                     | 30kB 2.5MB/s eta 0:00:01\r\u001b[K    45% |██████████████▊                 | 40kB 1.7MB/s eta 0:00:01\r\u001b[K    57% |██████████████████▍             | 51kB 2.1MB/s eta 0:00:01\r\u001b[K    68% |██████████████████████          | 61kB 2.5MB/s eta 0:00:01\r\u001b[K    80% |█████████████████████████▊      | 71kB 2.9MB/s eta 0:00:01\r\u001b[K    91% |█████████████████████████████▍  | 81kB 3.2MB/s eta 0:00:01\r\u001b[K    100% |████████████████████████████████| 92kB 3.4MB/s \n",
            "\u001b[?25hInstalling collected packages: scikit-multilearn\n",
            "Successfully installed scikit-multilearn-0.2.0\n"
          ],
          "name": "stdout"
        }
      ]
    },
    {
      "metadata": {
        "id": "s2wgsdGlxTIb",
        "colab_type": "code",
        "colab": {
          "base_uri": "https://localhost:8080/",
          "height": 34
        },
        "outputId": "1db47886-754e-46f2-b60f-d4fbd61e82d7"
      },
      "cell_type": "code",
      "source": [
        "import tensorflow as tf \n",
        "#import deepchem as dc\n",
        "from sklearn.decomposition import KernelPCA\n",
        "from sklearn.preprocessing import StandardScaler\n",
        "from sklearn.multiclass import OneVsRestClassifier\n",
        "from sklearn.utils import class_weight\n",
        "from sklearn.svm import SVC\n",
        "from sklearn.model_selection import GridSearchCV\n",
        "from sklearn.utils import class_weight\n",
        "from sklearn.metrics import roc_curve, auc, roc_auc_score, f1_score\n",
        "from sklearn.model_selection import train_test_split\n",
        "from skmultilearn.model_selection import iterative_train_test_split\n",
        "import pickle\n",
        "from keras.layers import Dense, Activation, Dropout, BatchNormalization, Input\n",
        "from keras.models import Sequential, Model\n",
        "from keras import optimizers, regularizers, initializers\n",
        "from keras.callbacks import ModelCheckpoint, Callback\n",
        "from keras import backend as K\n",
        "from keras.optimizers import Adam\n",
        "import tensorflow as tf\n",
        "from xgboost import XGBClassifier\n",
        "import matplotlib.pyplot as plt\n",
        "import seaborn as sns\n",
        "import warnings\n",
        "import pandas as pd \n",
        "import matplotlib.pyplot as plt\n",
        "import rdkit\n",
        "from rdkit import Chem"
      ],
      "execution_count": 10,
      "outputs": [
        {
          "output_type": "stream",
          "text": [
            "Using TensorFlow backend.\n"
          ],
          "name": "stderr"
        }
      ]
    },
    {
      "metadata": {
        "id": "X45CqsPG2MSW",
        "colab_type": "text"
      },
      "cell_type": "markdown",
      "source": [
        "##Load  the data \n",
        "## convert the data from raw data to numeric \n",
        "## clean the data "
      ]
    },
    {
      "metadata": {
        "id": "T4QjkHjvxRbX",
        "colab_type": "code",
        "outputId": "10c6d694-e771-4995-ff28-0ee64ce18521",
        "colab": {
          "base_uri": "https://localhost:8080/",
          "height": 266
        }
      },
      "cell_type": "code",
      "source": [
        "tox21_df= pd.read_csv('../content/tox21.csv')\n",
        "print(tox21_df.shape)\n",
        "tox21_df.head()"
      ],
      "execution_count": 11,
      "outputs": [
        {
          "output_type": "stream",
          "text": [
            "(7831, 14)\n"
          ],
          "name": "stdout"
        },
        {
          "output_type": "execute_result",
          "data": {
            "text/html": [
              "<div>\n",
              "<style scoped>\n",
              "    .dataframe tbody tr th:only-of-type {\n",
              "        vertical-align: middle;\n",
              "    }\n",
              "\n",
              "    .dataframe tbody tr th {\n",
              "        vertical-align: top;\n",
              "    }\n",
              "\n",
              "    .dataframe thead th {\n",
              "        text-align: right;\n",
              "    }\n",
              "</style>\n",
              "<table border=\"1\" class=\"dataframe\">\n",
              "  <thead>\n",
              "    <tr style=\"text-align: right;\">\n",
              "      <th></th>\n",
              "      <th>NR-AR</th>\n",
              "      <th>NR-AR-LBD</th>\n",
              "      <th>NR-AhR</th>\n",
              "      <th>NR-Aromatase</th>\n",
              "      <th>NR-ER</th>\n",
              "      <th>NR-ER-LBD</th>\n",
              "      <th>NR-PPAR-gamma</th>\n",
              "      <th>SR-ARE</th>\n",
              "      <th>SR-ATAD5</th>\n",
              "      <th>SR-HSE</th>\n",
              "      <th>SR-MMP</th>\n",
              "      <th>SR-p53</th>\n",
              "      <th>mol_id</th>\n",
              "      <th>smiles</th>\n",
              "    </tr>\n",
              "  </thead>\n",
              "  <tbody>\n",
              "    <tr>\n",
              "      <th>0</th>\n",
              "      <td>0.0</td>\n",
              "      <td>0.0</td>\n",
              "      <td>1.0</td>\n",
              "      <td>NaN</td>\n",
              "      <td>NaN</td>\n",
              "      <td>0.0</td>\n",
              "      <td>0.0</td>\n",
              "      <td>1.0</td>\n",
              "      <td>0.0</td>\n",
              "      <td>0.0</td>\n",
              "      <td>0.0</td>\n",
              "      <td>0.0</td>\n",
              "      <td>TOX3021</td>\n",
              "      <td>CCOc1ccc2nc(S(N)(=O)=O)sc2c1</td>\n",
              "    </tr>\n",
              "    <tr>\n",
              "      <th>1</th>\n",
              "      <td>0.0</td>\n",
              "      <td>0.0</td>\n",
              "      <td>0.0</td>\n",
              "      <td>0.0</td>\n",
              "      <td>0.0</td>\n",
              "      <td>0.0</td>\n",
              "      <td>0.0</td>\n",
              "      <td>NaN</td>\n",
              "      <td>0.0</td>\n",
              "      <td>NaN</td>\n",
              "      <td>0.0</td>\n",
              "      <td>0.0</td>\n",
              "      <td>TOX3020</td>\n",
              "      <td>CCN1C(=O)NC(c2ccccc2)C1=O</td>\n",
              "    </tr>\n",
              "    <tr>\n",
              "      <th>2</th>\n",
              "      <td>NaN</td>\n",
              "      <td>NaN</td>\n",
              "      <td>NaN</td>\n",
              "      <td>NaN</td>\n",
              "      <td>NaN</td>\n",
              "      <td>NaN</td>\n",
              "      <td>NaN</td>\n",
              "      <td>0.0</td>\n",
              "      <td>NaN</td>\n",
              "      <td>0.0</td>\n",
              "      <td>NaN</td>\n",
              "      <td>NaN</td>\n",
              "      <td>TOX3024</td>\n",
              "      <td>CC[C@]1(O)CC[C@H]2[C@@H]3CCC4=CCCC[C@@H]4[C@H]...</td>\n",
              "    </tr>\n",
              "    <tr>\n",
              "      <th>3</th>\n",
              "      <td>0.0</td>\n",
              "      <td>0.0</td>\n",
              "      <td>0.0</td>\n",
              "      <td>0.0</td>\n",
              "      <td>0.0</td>\n",
              "      <td>0.0</td>\n",
              "      <td>0.0</td>\n",
              "      <td>NaN</td>\n",
              "      <td>0.0</td>\n",
              "      <td>NaN</td>\n",
              "      <td>0.0</td>\n",
              "      <td>0.0</td>\n",
              "      <td>TOX3027</td>\n",
              "      <td>CCCN(CC)C(CC)C(=O)Nc1c(C)cccc1C</td>\n",
              "    </tr>\n",
              "    <tr>\n",
              "      <th>4</th>\n",
              "      <td>0.0</td>\n",
              "      <td>0.0</td>\n",
              "      <td>0.0</td>\n",
              "      <td>0.0</td>\n",
              "      <td>0.0</td>\n",
              "      <td>0.0</td>\n",
              "      <td>0.0</td>\n",
              "      <td>0.0</td>\n",
              "      <td>0.0</td>\n",
              "      <td>0.0</td>\n",
              "      <td>0.0</td>\n",
              "      <td>0.0</td>\n",
              "      <td>TOX20800</td>\n",
              "      <td>CC(O)(P(=O)(O)O)P(=O)(O)O</td>\n",
              "    </tr>\n",
              "  </tbody>\n",
              "</table>\n",
              "</div>"
            ],
            "text/plain": [
              "   NR-AR  NR-AR-LBD  NR-AhR  NR-Aromatase  NR-ER  NR-ER-LBD  NR-PPAR-gamma  \\\n",
              "0    0.0        0.0     1.0           NaN    NaN        0.0            0.0   \n",
              "1    0.0        0.0     0.0           0.0    0.0        0.0            0.0   \n",
              "2    NaN        NaN     NaN           NaN    NaN        NaN            NaN   \n",
              "3    0.0        0.0     0.0           0.0    0.0        0.0            0.0   \n",
              "4    0.0        0.0     0.0           0.0    0.0        0.0            0.0   \n",
              "\n",
              "   SR-ARE  SR-ATAD5  SR-HSE  SR-MMP  SR-p53    mol_id  \\\n",
              "0     1.0       0.0     0.0     0.0     0.0   TOX3021   \n",
              "1     NaN       0.0     NaN     0.0     0.0   TOX3020   \n",
              "2     0.0       NaN     0.0     NaN     NaN   TOX3024   \n",
              "3     NaN       0.0     NaN     0.0     0.0   TOX3027   \n",
              "4     0.0       0.0     0.0     0.0     0.0  TOX20800   \n",
              "\n",
              "                                              smiles  \n",
              "0                       CCOc1ccc2nc(S(N)(=O)=O)sc2c1  \n",
              "1                          CCN1C(=O)NC(c2ccccc2)C1=O  \n",
              "2  CC[C@]1(O)CC[C@H]2[C@@H]3CCC4=CCCC[C@@H]4[C@H]...  \n",
              "3                    CCCN(CC)C(CC)C(=O)Nc1c(C)cccc1C  \n",
              "4                          CC(O)(P(=O)(O)O)P(=O)(O)O  "
            ]
          },
          "metadata": {
            "tags": []
          },
          "execution_count": 11
        }
      ]
    },
    {
      "metadata": {
        "id": "amFa2KwexWn1",
        "colab_type": "code",
        "colab": {}
      },
      "cell_type": "code",
      "source": [
        "\n",
        "# Get indices of NaN\n",
        "inds = pd.isnull(tox21_df).any(1).nonzero()[0]\n",
        "#print (inds)"
      ],
      "execution_count": 0,
      "outputs": []
    },
    {
      "metadata": {
        "id": "zLKN_rio0o-T",
        "colab_type": "code",
        "colab": {
          "base_uri": "https://localhost:8080/",
          "height": 212
        },
        "outputId": "7f80b657-a30a-4bb4-e39c-1242027ef196"
      },
      "cell_type": "code",
      "source": [
        "tox21_df.drop(['mol_id','smiles'], axis=1, inplace=True)\n",
        "print(tox21_df.shape)\n",
        "tox21_df.head()"
      ],
      "execution_count": 13,
      "outputs": [
        {
          "output_type": "stream",
          "text": [
            "(7831, 12)\n"
          ],
          "name": "stdout"
        },
        {
          "output_type": "execute_result",
          "data": {
            "text/html": [
              "<div>\n",
              "<style scoped>\n",
              "    .dataframe tbody tr th:only-of-type {\n",
              "        vertical-align: middle;\n",
              "    }\n",
              "\n",
              "    .dataframe tbody tr th {\n",
              "        vertical-align: top;\n",
              "    }\n",
              "\n",
              "    .dataframe thead th {\n",
              "        text-align: right;\n",
              "    }\n",
              "</style>\n",
              "<table border=\"1\" class=\"dataframe\">\n",
              "  <thead>\n",
              "    <tr style=\"text-align: right;\">\n",
              "      <th></th>\n",
              "      <th>NR-AR</th>\n",
              "      <th>NR-AR-LBD</th>\n",
              "      <th>NR-AhR</th>\n",
              "      <th>NR-Aromatase</th>\n",
              "      <th>NR-ER</th>\n",
              "      <th>NR-ER-LBD</th>\n",
              "      <th>NR-PPAR-gamma</th>\n",
              "      <th>SR-ARE</th>\n",
              "      <th>SR-ATAD5</th>\n",
              "      <th>SR-HSE</th>\n",
              "      <th>SR-MMP</th>\n",
              "      <th>SR-p53</th>\n",
              "    </tr>\n",
              "  </thead>\n",
              "  <tbody>\n",
              "    <tr>\n",
              "      <th>0</th>\n",
              "      <td>0.0</td>\n",
              "      <td>0.0</td>\n",
              "      <td>1.0</td>\n",
              "      <td>NaN</td>\n",
              "      <td>NaN</td>\n",
              "      <td>0.0</td>\n",
              "      <td>0.0</td>\n",
              "      <td>1.0</td>\n",
              "      <td>0.0</td>\n",
              "      <td>0.0</td>\n",
              "      <td>0.0</td>\n",
              "      <td>0.0</td>\n",
              "    </tr>\n",
              "    <tr>\n",
              "      <th>1</th>\n",
              "      <td>0.0</td>\n",
              "      <td>0.0</td>\n",
              "      <td>0.0</td>\n",
              "      <td>0.0</td>\n",
              "      <td>0.0</td>\n",
              "      <td>0.0</td>\n",
              "      <td>0.0</td>\n",
              "      <td>NaN</td>\n",
              "      <td>0.0</td>\n",
              "      <td>NaN</td>\n",
              "      <td>0.0</td>\n",
              "      <td>0.0</td>\n",
              "    </tr>\n",
              "    <tr>\n",
              "      <th>2</th>\n",
              "      <td>NaN</td>\n",
              "      <td>NaN</td>\n",
              "      <td>NaN</td>\n",
              "      <td>NaN</td>\n",
              "      <td>NaN</td>\n",
              "      <td>NaN</td>\n",
              "      <td>NaN</td>\n",
              "      <td>0.0</td>\n",
              "      <td>NaN</td>\n",
              "      <td>0.0</td>\n",
              "      <td>NaN</td>\n",
              "      <td>NaN</td>\n",
              "    </tr>\n",
              "    <tr>\n",
              "      <th>3</th>\n",
              "      <td>0.0</td>\n",
              "      <td>0.0</td>\n",
              "      <td>0.0</td>\n",
              "      <td>0.0</td>\n",
              "      <td>0.0</td>\n",
              "      <td>0.0</td>\n",
              "      <td>0.0</td>\n",
              "      <td>NaN</td>\n",
              "      <td>0.0</td>\n",
              "      <td>NaN</td>\n",
              "      <td>0.0</td>\n",
              "      <td>0.0</td>\n",
              "    </tr>\n",
              "    <tr>\n",
              "      <th>4</th>\n",
              "      <td>0.0</td>\n",
              "      <td>0.0</td>\n",
              "      <td>0.0</td>\n",
              "      <td>0.0</td>\n",
              "      <td>0.0</td>\n",
              "      <td>0.0</td>\n",
              "      <td>0.0</td>\n",
              "      <td>0.0</td>\n",
              "      <td>0.0</td>\n",
              "      <td>0.0</td>\n",
              "      <td>0.0</td>\n",
              "      <td>0.0</td>\n",
              "    </tr>\n",
              "  </tbody>\n",
              "</table>\n",
              "</div>"
            ],
            "text/plain": [
              "   NR-AR  NR-AR-LBD  NR-AhR  NR-Aromatase  NR-ER  NR-ER-LBD  NR-PPAR-gamma  \\\n",
              "0    0.0        0.0     1.0           NaN    NaN        0.0            0.0   \n",
              "1    0.0        0.0     0.0           0.0    0.0        0.0            0.0   \n",
              "2    NaN        NaN     NaN           NaN    NaN        NaN            NaN   \n",
              "3    0.0        0.0     0.0           0.0    0.0        0.0            0.0   \n",
              "4    0.0        0.0     0.0           0.0    0.0        0.0            0.0   \n",
              "\n",
              "   SR-ARE  SR-ATAD5  SR-HSE  SR-MMP  SR-p53  \n",
              "0     1.0       0.0     0.0     0.0     0.0  \n",
              "1     NaN       0.0     NaN     0.0     0.0  \n",
              "2     0.0       NaN     0.0     NaN     NaN  \n",
              "3     NaN       0.0     NaN     0.0     0.0  \n",
              "4     0.0       0.0     0.0     0.0     0.0  "
            ]
          },
          "metadata": {
            "tags": []
          },
          "execution_count": 13
        }
      ]
    },
    {
      "metadata": {
        "id": "e68kLCBblZV3",
        "colab_type": "code",
        "colab": {}
      },
      "cell_type": "code",
      "source": [
        ""
      ],
      "execution_count": 0,
      "outputs": []
    },
    {
      "metadata": {
        "id": "z6szE3On2H75",
        "colab_type": "code",
        "colab": {}
      },
      "cell_type": "code",
      "source": [
        ""
      ],
      "execution_count": 0,
      "outputs": []
    },
    {
      "metadata": {
        "id": "_kLZ9Kemf8-d",
        "colab_type": "code",
        "colab": {
          "base_uri": "https://localhost:8080/",
          "height": 34
        },
        "outputId": "bb052474-4b62-4acb-a296-8bccc40a1fd3"
      },
      "cell_type": "code",
      "source": [
        "#tox21_df.dropna(inplace=True)\n",
        "print(tox21_df.shape)\n",
        "tox21_df=tox21_df.fillna(0)\n"
      ],
      "execution_count": 45,
      "outputs": [
        {
          "output_type": "stream",
          "text": [
            "(7831, 12)\n"
          ],
          "name": "stdout"
        }
      ]
    },
    {
      "metadata": {
        "id": "Ofj04B52zyNE",
        "colab_type": "text"
      },
      "cell_type": "markdown",
      "source": [
        "# Installing rdkit package \n",
        "\n",
        "[rdkit](https://www.rdkit.org/docs/Overview.html) is an open source toolkit for cheminformatics \n"
      ]
    },
    {
      "metadata": {
        "id": "l28O2_P8qWgT",
        "colab_type": "code",
        "colab": {
          "base_uri": "https://localhost:8080/",
          "height": 195
        },
        "outputId": "4393053e-d425-4787-da1f-93fa05607e6a"
      },
      "cell_type": "code",
      "source": [
        "tox21_df.head()"
      ],
      "execution_count": 47,
      "outputs": [
        {
          "output_type": "execute_result",
          "data": {
            "text/html": [
              "<div>\n",
              "<style scoped>\n",
              "    .dataframe tbody tr th:only-of-type {\n",
              "        vertical-align: middle;\n",
              "    }\n",
              "\n",
              "    .dataframe tbody tr th {\n",
              "        vertical-align: top;\n",
              "    }\n",
              "\n",
              "    .dataframe thead th {\n",
              "        text-align: right;\n",
              "    }\n",
              "</style>\n",
              "<table border=\"1\" class=\"dataframe\">\n",
              "  <thead>\n",
              "    <tr style=\"text-align: right;\">\n",
              "      <th></th>\n",
              "      <th>NR-AR</th>\n",
              "      <th>NR-AR-LBD</th>\n",
              "      <th>NR-AhR</th>\n",
              "      <th>NR-Aromatase</th>\n",
              "      <th>NR-ER</th>\n",
              "      <th>NR-ER-LBD</th>\n",
              "      <th>NR-PPAR-gamma</th>\n",
              "      <th>SR-ARE</th>\n",
              "      <th>SR-ATAD5</th>\n",
              "      <th>SR-HSE</th>\n",
              "      <th>SR-MMP</th>\n",
              "      <th>SR-p53</th>\n",
              "    </tr>\n",
              "  </thead>\n",
              "  <tbody>\n",
              "    <tr>\n",
              "      <th>0</th>\n",
              "      <td>0.0</td>\n",
              "      <td>0.0</td>\n",
              "      <td>1.0</td>\n",
              "      <td>0.0</td>\n",
              "      <td>0.0</td>\n",
              "      <td>0.0</td>\n",
              "      <td>0.0</td>\n",
              "      <td>1.0</td>\n",
              "      <td>0.0</td>\n",
              "      <td>0.0</td>\n",
              "      <td>0.0</td>\n",
              "      <td>0.0</td>\n",
              "    </tr>\n",
              "    <tr>\n",
              "      <th>1</th>\n",
              "      <td>0.0</td>\n",
              "      <td>0.0</td>\n",
              "      <td>0.0</td>\n",
              "      <td>0.0</td>\n",
              "      <td>0.0</td>\n",
              "      <td>0.0</td>\n",
              "      <td>0.0</td>\n",
              "      <td>0.0</td>\n",
              "      <td>0.0</td>\n",
              "      <td>0.0</td>\n",
              "      <td>0.0</td>\n",
              "      <td>0.0</td>\n",
              "    </tr>\n",
              "    <tr>\n",
              "      <th>2</th>\n",
              "      <td>0.0</td>\n",
              "      <td>0.0</td>\n",
              "      <td>0.0</td>\n",
              "      <td>0.0</td>\n",
              "      <td>0.0</td>\n",
              "      <td>0.0</td>\n",
              "      <td>0.0</td>\n",
              "      <td>0.0</td>\n",
              "      <td>0.0</td>\n",
              "      <td>0.0</td>\n",
              "      <td>0.0</td>\n",
              "      <td>0.0</td>\n",
              "    </tr>\n",
              "    <tr>\n",
              "      <th>3</th>\n",
              "      <td>0.0</td>\n",
              "      <td>0.0</td>\n",
              "      <td>0.0</td>\n",
              "      <td>0.0</td>\n",
              "      <td>0.0</td>\n",
              "      <td>0.0</td>\n",
              "      <td>0.0</td>\n",
              "      <td>0.0</td>\n",
              "      <td>0.0</td>\n",
              "      <td>0.0</td>\n",
              "      <td>0.0</td>\n",
              "      <td>0.0</td>\n",
              "    </tr>\n",
              "    <tr>\n",
              "      <th>4</th>\n",
              "      <td>0.0</td>\n",
              "      <td>0.0</td>\n",
              "      <td>0.0</td>\n",
              "      <td>0.0</td>\n",
              "      <td>0.0</td>\n",
              "      <td>0.0</td>\n",
              "      <td>0.0</td>\n",
              "      <td>0.0</td>\n",
              "      <td>0.0</td>\n",
              "      <td>0.0</td>\n",
              "      <td>0.0</td>\n",
              "      <td>0.0</td>\n",
              "    </tr>\n",
              "  </tbody>\n",
              "</table>\n",
              "</div>"
            ],
            "text/plain": [
              "   NR-AR  NR-AR-LBD  NR-AhR  NR-Aromatase  NR-ER  NR-ER-LBD  NR-PPAR-gamma  \\\n",
              "0    0.0        0.0     1.0           0.0    0.0        0.0            0.0   \n",
              "1    0.0        0.0     0.0           0.0    0.0        0.0            0.0   \n",
              "2    0.0        0.0     0.0           0.0    0.0        0.0            0.0   \n",
              "3    0.0        0.0     0.0           0.0    0.0        0.0            0.0   \n",
              "4    0.0        0.0     0.0           0.0    0.0        0.0            0.0   \n",
              "\n",
              "   SR-ARE  SR-ATAD5  SR-HSE  SR-MMP  SR-p53  \n",
              "0     1.0       0.0     0.0     0.0     0.0  \n",
              "1     0.0       0.0     0.0     0.0     0.0  \n",
              "2     0.0       0.0     0.0     0.0     0.0  \n",
              "3     0.0       0.0     0.0     0.0     0.0  \n",
              "4     0.0       0.0     0.0     0.0     0.0  "
            ]
          },
          "metadata": {
            "tags": []
          },
          "execution_count": 47
        }
      ]
    },
    {
      "metadata": {
        "id": "TvsIW-EmuYq0",
        "colab_type": "code",
        "colab": {}
      },
      "cell_type": "code",
      "source": [
        ""
      ],
      "execution_count": 0,
      "outputs": []
    },
    {
      "metadata": {
        "id": "8lxYnr-iwnlL",
        "colab_type": "code",
        "colab": {}
      },
      "cell_type": "code",
      "source": [
        "m = Chem.MolFromSmiles('Cc1ccccc1')"
      ],
      "execution_count": 0,
      "outputs": []
    },
    {
      "metadata": {
        "id": "Jsuu6oob3n20",
        "colab_type": "code",
        "colab": {
          "base_uri": "https://localhost:8080/",
          "height": 34
        },
        "outputId": "e033010a-c4bc-4a3c-f698-33422e55998c"
      },
      "cell_type": "code",
      "source": [
        "print(m)"
      ],
      "execution_count": 16,
      "outputs": [
        {
          "output_type": "stream",
          "text": [
            "<rdkit.Chem.rdchem.Mol object at 0x7f6c6004a6c0>\n"
          ],
          "name": "stdout"
        }
      ]
    },
    {
      "metadata": {
        "id": "zVClhbSo5Xmh",
        "colab_type": "code",
        "colab": {
          "base_uri": "https://localhost:8080/",
          "height": 34
        },
        "outputId": "8909100e-6345-44a5-cbd7-49997392f06a"
      },
      "cell_type": "code",
      "source": [
        "mol1=Chem.MolFromSmiles('CO(C)C')\n",
        "print(mol1)"
      ],
      "execution_count": 17,
      "outputs": [
        {
          "output_type": "stream",
          "text": [
            "None\n"
          ],
          "name": "stdout"
        }
      ]
    },
    {
      "metadata": {
        "id": "kt-eGtA956qL",
        "colab_type": "code",
        "colab": {}
      },
      "cell_type": "code",
      "source": [
        "tox21_descriptors_df= pd.read_csv('../content/tox21_descriptors_df.csv',low_memory=False)"
      ],
      "execution_count": 0,
      "outputs": []
    },
    {
      "metadata": {
        "id": "3DWwWZ0izuTT",
        "colab_type": "text"
      },
      "cell_type": "markdown",
      "source": [
        "# New Section"
      ]
    },
    {
      "metadata": {
        "id": "GeFlwEUI6cGK",
        "colab_type": "code",
        "colab": {
          "base_uri": "https://localhost:8080/",
          "height": 34
        },
        "outputId": "7768b183-184a-444c-8509-ebdd737298da"
      },
      "cell_type": "code",
      "source": [
        "tox21_descriptors_df.shape"
      ],
      "execution_count": 20,
      "outputs": [
        {
          "output_type": "execute_result",
          "data": {
            "text/plain": [
              "(7831, 1825)"
            ]
          },
          "metadata": {
            "tags": []
          },
          "execution_count": 20
        }
      ]
    },
    {
      "metadata": {
        "id": "SUcByrXeiOA_",
        "colab_type": "code",
        "colab": {
          "base_uri": "https://localhost:8080/",
          "height": 118
        },
        "outputId": "8a6e4a8f-756f-42f9-c71b-04e1939e0ea2"
      },
      "cell_type": "code",
      "source": [
        "print(tox21_descriptors_df.columns)"
      ],
      "execution_count": 26,
      "outputs": [
        {
          "output_type": "stream",
          "text": [
            "Index(['ABC', 'ABCGG', 'nAcid', 'nBase', 'SpAbs_A', 'SpMax_A', 'SpDiam_A',\n",
            "       'SpAD_A', 'SpMAD_A', 'LogEE_A',\n",
            "       ...\n",
            "       'SRW10', 'TSRW10', 'MW', 'AMW', 'WPath', 'WPol', 'Zagreb1', 'Zagreb2',\n",
            "       'mZagreb1', 'mZagreb2'],\n",
            "      dtype='object', length=1825)\n"
          ],
          "name": "stdout"
        }
      ]
    },
    {
      "metadata": {
        "id": "mpSeLClFiThH",
        "colab_type": "code",
        "colab": {
          "base_uri": "https://localhost:8080/",
          "height": 244
        },
        "outputId": "91ccf36b-af7e-400d-906d-bc28e4ec7744"
      },
      "cell_type": "code",
      "source": [
        "tox21_descriptors_df.head()"
      ],
      "execution_count": 29,
      "outputs": [
        {
          "output_type": "execute_result",
          "data": {
            "text/html": [
              "<div>\n",
              "<style scoped>\n",
              "    .dataframe tbody tr th:only-of-type {\n",
              "        vertical-align: middle;\n",
              "    }\n",
              "\n",
              "    .dataframe tbody tr th {\n",
              "        vertical-align: top;\n",
              "    }\n",
              "\n",
              "    .dataframe thead th {\n",
              "        text-align: right;\n",
              "    }\n",
              "</style>\n",
              "<table border=\"1\" class=\"dataframe\">\n",
              "  <thead>\n",
              "    <tr style=\"text-align: right;\">\n",
              "      <th></th>\n",
              "      <th>ABC</th>\n",
              "      <th>ABCGG</th>\n",
              "      <th>nAcid</th>\n",
              "      <th>nBase</th>\n",
              "      <th>SpAbs_A</th>\n",
              "      <th>SpMax_A</th>\n",
              "      <th>SpDiam_A</th>\n",
              "      <th>SpAD_A</th>\n",
              "      <th>SpMAD_A</th>\n",
              "      <th>LogEE_A</th>\n",
              "      <th>...</th>\n",
              "      <th>SRW10</th>\n",
              "      <th>TSRW10</th>\n",
              "      <th>MW</th>\n",
              "      <th>AMW</th>\n",
              "      <th>WPath</th>\n",
              "      <th>WPol</th>\n",
              "      <th>Zagreb1</th>\n",
              "      <th>Zagreb2</th>\n",
              "      <th>mZagreb1</th>\n",
              "      <th>mZagreb2</th>\n",
              "    </tr>\n",
              "  </thead>\n",
              "  <tbody>\n",
              "    <tr>\n",
              "      <th>0</th>\n",
              "      <td>12.395521</td>\n",
              "      <td>10.847181</td>\n",
              "      <td>0</td>\n",
              "      <td>0</td>\n",
              "      <td>19.46281318600621</td>\n",
              "      <td>2.447713486071253</td>\n",
              "      <td>4.716371944676344</td>\n",
              "      <td>19.46281318600621</td>\n",
              "      <td>1.216425824125388</td>\n",
              "      <td>3.704693929148567</td>\n",
              "      <td>...</td>\n",
              "      <td>9.698614</td>\n",
              "      <td>62.626045</td>\n",
              "      <td>258.013284</td>\n",
              "      <td>9.923588</td>\n",
              "      <td>442</td>\n",
              "      <td>22</td>\n",
              "      <td>84.0</td>\n",
              "      <td>97.0</td>\n",
              "      <td>6.256944444444445</td>\n",
              "      <td>3.444444</td>\n",
              "    </tr>\n",
              "    <tr>\n",
              "      <th>1</th>\n",
              "      <td>11.370728</td>\n",
              "      <td>10.500427</td>\n",
              "      <td>0</td>\n",
              "      <td>0</td>\n",
              "      <td>19.289890469481737</td>\n",
              "      <td>2.4352613894467936</td>\n",
              "      <td>4.703787940034786</td>\n",
              "      <td>19.289890469481733</td>\n",
              "      <td>1.2859926979654488</td>\n",
              "      <td>3.636116437488342</td>\n",
              "      <td>...</td>\n",
              "      <td>9.553433</td>\n",
              "      <td>61.306823</td>\n",
              "      <td>204.089878</td>\n",
              "      <td>7.558884</td>\n",
              "      <td>353</td>\n",
              "      <td>22</td>\n",
              "      <td>76.0</td>\n",
              "      <td>90.0</td>\n",
              "      <td>5.305555555555555</td>\n",
              "      <td>3.444444</td>\n",
              "    </tr>\n",
              "    <tr>\n",
              "      <th>2</th>\n",
              "      <td>16.970296</td>\n",
              "      <td>13.706131</td>\n",
              "      <td>0</td>\n",
              "      <td>0</td>\n",
              "      <td>27.990428923985398</td>\n",
              "      <td>2.620855425231915</td>\n",
              "      <td>5.159573376786184</td>\n",
              "      <td>27.990428923985398</td>\n",
              "      <td>1.3328775678088285</td>\n",
              "      <td>4.026392497471618</td>\n",
              "      <td>...</td>\n",
              "      <td>10.503120</td>\n",
              "      <td>70.933915</td>\n",
              "      <td>288.245316</td>\n",
              "      <td>5.438591</td>\n",
              "      <td>812</td>\n",
              "      <td>44</td>\n",
              "      <td>124.0</td>\n",
              "      <td>158.0</td>\n",
              "      <td>6.430555555555555</td>\n",
              "      <td>4.465278</td>\n",
              "    </tr>\n",
              "    <tr>\n",
              "      <th>3</th>\n",
              "      <td>14.308545</td>\n",
              "      <td>13.613603</td>\n",
              "      <td>0</td>\n",
              "      <td>1</td>\n",
              "      <td>24.38888550102035</td>\n",
              "      <td>2.349426052875372</td>\n",
              "      <td>4.698852105750742</td>\n",
              "      <td>24.38888550102035</td>\n",
              "      <td>1.2194442750510175</td>\n",
              "      <td>3.8703926266542332</td>\n",
              "      <td>...</td>\n",
              "      <td>9.653808</td>\n",
              "      <td>52.828148</td>\n",
              "      <td>276.220164</td>\n",
              "      <td>5.754587</td>\n",
              "      <td>830</td>\n",
              "      <td>30</td>\n",
              "      <td>92.0</td>\n",
              "      <td>105.0</td>\n",
              "      <td>8.666666666666666</td>\n",
              "      <td>4.861111</td>\n",
              "    </tr>\n",
              "    <tr>\n",
              "      <th>4</th>\n",
              "      <td>8.152948</td>\n",
              "      <td>8.723360</td>\n",
              "      <td>4</td>\n",
              "      <td>0</td>\n",
              "      <td>10.363081100704115</td>\n",
              "      <td>2.4494897427831788</td>\n",
              "      <td>4.8989794855663575</td>\n",
              "      <td>10.363081100704115</td>\n",
              "      <td>0.9420982818821922</td>\n",
              "      <td>3.2803128777834543</td>\n",
              "      <td>...</td>\n",
              "      <td>9.682903</td>\n",
              "      <td>42.374286</td>\n",
              "      <td>205.974526</td>\n",
              "      <td>10.840765</td>\n",
              "      <td>136</td>\n",
              "      <td>18</td>\n",
              "      <td>56.0</td>\n",
              "      <td>64.0</td>\n",
              "      <td>8.1875</td>\n",
              "      <td>2.125000</td>\n",
              "    </tr>\n",
              "  </tbody>\n",
              "</table>\n",
              "<p>5 rows × 1825 columns</p>\n",
              "</div>"
            ],
            "text/plain": [
              "         ABC      ABCGG  nAcid  nBase             SpAbs_A             SpMax_A  \\\n",
              "0  12.395521  10.847181      0      0   19.46281318600621   2.447713486071253   \n",
              "1  11.370728  10.500427      0      0  19.289890469481737  2.4352613894467936   \n",
              "2  16.970296  13.706131      0      0  27.990428923985398   2.620855425231915   \n",
              "3  14.308545  13.613603      0      1   24.38888550102035   2.349426052875372   \n",
              "4   8.152948   8.723360      4      0  10.363081100704115  2.4494897427831788   \n",
              "\n",
              "             SpDiam_A              SpAD_A             SpMAD_A  \\\n",
              "0   4.716371944676344   19.46281318600621   1.216425824125388   \n",
              "1   4.703787940034786  19.289890469481733  1.2859926979654488   \n",
              "2   5.159573376786184  27.990428923985398  1.3328775678088285   \n",
              "3   4.698852105750742   24.38888550102035  1.2194442750510175   \n",
              "4  4.8989794855663575  10.363081100704115  0.9420982818821922   \n",
              "\n",
              "              LogEE_A    ...         SRW10     TSRW10          MW        AMW  \\\n",
              "0   3.704693929148567    ...      9.698614  62.626045  258.013284   9.923588   \n",
              "1   3.636116437488342    ...      9.553433  61.306823  204.089878   7.558884   \n",
              "2   4.026392497471618    ...     10.503120  70.933915  288.245316   5.438591   \n",
              "3  3.8703926266542332    ...      9.653808  52.828148  276.220164   5.754587   \n",
              "4  3.2803128777834543    ...      9.682903  42.374286  205.974526  10.840765   \n",
              "\n",
              "  WPath WPol  Zagreb1  Zagreb2           mZagreb1  mZagreb2  \n",
              "0   442   22     84.0     97.0  6.256944444444445  3.444444  \n",
              "1   353   22     76.0     90.0  5.305555555555555  3.444444  \n",
              "2   812   44    124.0    158.0  6.430555555555555  4.465278  \n",
              "3   830   30     92.0    105.0  8.666666666666666  4.861111  \n",
              "4   136   18     56.0     64.0             8.1875  2.125000  \n",
              "\n",
              "[5 rows x 1825 columns]"
            ]
          },
          "metadata": {
            "tags": []
          },
          "execution_count": 29
        }
      ]
    },
    {
      "metadata": {
        "id": "iWwedQURjGIr",
        "colab_type": "code",
        "colab": {}
      },
      "cell_type": "code",
      "source": [
        "def coerce_to_numeric(df, column_list):\n",
        "    df[column_list] = df[column_list].apply(pd.to_numeric, errors='coerce')"
      ],
      "execution_count": 0,
      "outputs": []
    },
    {
      "metadata": {
        "id": "yWtCz_bTjbfE",
        "colab_type": "code",
        "colab": {
          "base_uri": "https://localhost:8080/",
          "height": 244
        },
        "outputId": "12ad72e2-8fc2-4fef-96bb-38170ef2f6eb"
      },
      "cell_type": "code",
      "source": [
        "coerce_to_numeric(tox21_descriptors_df, tox21_descriptors_df.columns)\n",
        "tox21_descriptors_df.head()"
      ],
      "execution_count": 31,
      "outputs": [
        {
          "output_type": "execute_result",
          "data": {
            "text/html": [
              "<div>\n",
              "<style scoped>\n",
              "    .dataframe tbody tr th:only-of-type {\n",
              "        vertical-align: middle;\n",
              "    }\n",
              "\n",
              "    .dataframe tbody tr th {\n",
              "        vertical-align: top;\n",
              "    }\n",
              "\n",
              "    .dataframe thead th {\n",
              "        text-align: right;\n",
              "    }\n",
              "</style>\n",
              "<table border=\"1\" class=\"dataframe\">\n",
              "  <thead>\n",
              "    <tr style=\"text-align: right;\">\n",
              "      <th></th>\n",
              "      <th>ABC</th>\n",
              "      <th>ABCGG</th>\n",
              "      <th>nAcid</th>\n",
              "      <th>nBase</th>\n",
              "      <th>SpAbs_A</th>\n",
              "      <th>SpMax_A</th>\n",
              "      <th>SpDiam_A</th>\n",
              "      <th>SpAD_A</th>\n",
              "      <th>SpMAD_A</th>\n",
              "      <th>LogEE_A</th>\n",
              "      <th>...</th>\n",
              "      <th>SRW10</th>\n",
              "      <th>TSRW10</th>\n",
              "      <th>MW</th>\n",
              "      <th>AMW</th>\n",
              "      <th>WPath</th>\n",
              "      <th>WPol</th>\n",
              "      <th>Zagreb1</th>\n",
              "      <th>Zagreb2</th>\n",
              "      <th>mZagreb1</th>\n",
              "      <th>mZagreb2</th>\n",
              "    </tr>\n",
              "  </thead>\n",
              "  <tbody>\n",
              "    <tr>\n",
              "      <th>0</th>\n",
              "      <td>12.395521</td>\n",
              "      <td>10.847181</td>\n",
              "      <td>0</td>\n",
              "      <td>0</td>\n",
              "      <td>19.462813</td>\n",
              "      <td>2.447713</td>\n",
              "      <td>4.716372</td>\n",
              "      <td>19.462813</td>\n",
              "      <td>1.216426</td>\n",
              "      <td>3.704694</td>\n",
              "      <td>...</td>\n",
              "      <td>9.698614</td>\n",
              "      <td>62.626045</td>\n",
              "      <td>258.013284</td>\n",
              "      <td>9.923588</td>\n",
              "      <td>442</td>\n",
              "      <td>22</td>\n",
              "      <td>84.0</td>\n",
              "      <td>97.0</td>\n",
              "      <td>6.256944</td>\n",
              "      <td>3.444444</td>\n",
              "    </tr>\n",
              "    <tr>\n",
              "      <th>1</th>\n",
              "      <td>11.370728</td>\n",
              "      <td>10.500427</td>\n",
              "      <td>0</td>\n",
              "      <td>0</td>\n",
              "      <td>19.289890</td>\n",
              "      <td>2.435261</td>\n",
              "      <td>4.703788</td>\n",
              "      <td>19.289890</td>\n",
              "      <td>1.285993</td>\n",
              "      <td>3.636116</td>\n",
              "      <td>...</td>\n",
              "      <td>9.553433</td>\n",
              "      <td>61.306823</td>\n",
              "      <td>204.089878</td>\n",
              "      <td>7.558884</td>\n",
              "      <td>353</td>\n",
              "      <td>22</td>\n",
              "      <td>76.0</td>\n",
              "      <td>90.0</td>\n",
              "      <td>5.305556</td>\n",
              "      <td>3.444444</td>\n",
              "    </tr>\n",
              "    <tr>\n",
              "      <th>2</th>\n",
              "      <td>16.970296</td>\n",
              "      <td>13.706131</td>\n",
              "      <td>0</td>\n",
              "      <td>0</td>\n",
              "      <td>27.990429</td>\n",
              "      <td>2.620855</td>\n",
              "      <td>5.159573</td>\n",
              "      <td>27.990429</td>\n",
              "      <td>1.332878</td>\n",
              "      <td>4.026392</td>\n",
              "      <td>...</td>\n",
              "      <td>10.503120</td>\n",
              "      <td>70.933915</td>\n",
              "      <td>288.245316</td>\n",
              "      <td>5.438591</td>\n",
              "      <td>812</td>\n",
              "      <td>44</td>\n",
              "      <td>124.0</td>\n",
              "      <td>158.0</td>\n",
              "      <td>6.430556</td>\n",
              "      <td>4.465278</td>\n",
              "    </tr>\n",
              "    <tr>\n",
              "      <th>3</th>\n",
              "      <td>14.308545</td>\n",
              "      <td>13.613603</td>\n",
              "      <td>0</td>\n",
              "      <td>1</td>\n",
              "      <td>24.388886</td>\n",
              "      <td>2.349426</td>\n",
              "      <td>4.698852</td>\n",
              "      <td>24.388886</td>\n",
              "      <td>1.219444</td>\n",
              "      <td>3.870393</td>\n",
              "      <td>...</td>\n",
              "      <td>9.653808</td>\n",
              "      <td>52.828148</td>\n",
              "      <td>276.220164</td>\n",
              "      <td>5.754587</td>\n",
              "      <td>830</td>\n",
              "      <td>30</td>\n",
              "      <td>92.0</td>\n",
              "      <td>105.0</td>\n",
              "      <td>8.666667</td>\n",
              "      <td>4.861111</td>\n",
              "    </tr>\n",
              "    <tr>\n",
              "      <th>4</th>\n",
              "      <td>8.152948</td>\n",
              "      <td>8.723360</td>\n",
              "      <td>4</td>\n",
              "      <td>0</td>\n",
              "      <td>10.363081</td>\n",
              "      <td>2.449490</td>\n",
              "      <td>4.898979</td>\n",
              "      <td>10.363081</td>\n",
              "      <td>0.942098</td>\n",
              "      <td>3.280313</td>\n",
              "      <td>...</td>\n",
              "      <td>9.682903</td>\n",
              "      <td>42.374286</td>\n",
              "      <td>205.974526</td>\n",
              "      <td>10.840765</td>\n",
              "      <td>136</td>\n",
              "      <td>18</td>\n",
              "      <td>56.0</td>\n",
              "      <td>64.0</td>\n",
              "      <td>8.187500</td>\n",
              "      <td>2.125000</td>\n",
              "    </tr>\n",
              "  </tbody>\n",
              "</table>\n",
              "<p>5 rows × 1825 columns</p>\n",
              "</div>"
            ],
            "text/plain": [
              "         ABC      ABCGG  nAcid  nBase    SpAbs_A   SpMax_A  SpDiam_A  \\\n",
              "0  12.395521  10.847181      0      0  19.462813  2.447713  4.716372   \n",
              "1  11.370728  10.500427      0      0  19.289890  2.435261  4.703788   \n",
              "2  16.970296  13.706131      0      0  27.990429  2.620855  5.159573   \n",
              "3  14.308545  13.613603      0      1  24.388886  2.349426  4.698852   \n",
              "4   8.152948   8.723360      4      0  10.363081  2.449490  4.898979   \n",
              "\n",
              "      SpAD_A   SpMAD_A   LogEE_A    ...         SRW10     TSRW10          MW  \\\n",
              "0  19.462813  1.216426  3.704694    ...      9.698614  62.626045  258.013284   \n",
              "1  19.289890  1.285993  3.636116    ...      9.553433  61.306823  204.089878   \n",
              "2  27.990429  1.332878  4.026392    ...     10.503120  70.933915  288.245316   \n",
              "3  24.388886  1.219444  3.870393    ...      9.653808  52.828148  276.220164   \n",
              "4  10.363081  0.942098  3.280313    ...      9.682903  42.374286  205.974526   \n",
              "\n",
              "         AMW  WPath  WPol  Zagreb1  Zagreb2  mZagreb1  mZagreb2  \n",
              "0   9.923588    442    22     84.0     97.0  6.256944  3.444444  \n",
              "1   7.558884    353    22     76.0     90.0  5.305556  3.444444  \n",
              "2   5.438591    812    44    124.0    158.0  6.430556  4.465278  \n",
              "3   5.754587    830    30     92.0    105.0  8.666667  4.861111  \n",
              "4  10.840765    136    18     56.0     64.0  8.187500  2.125000  \n",
              "\n",
              "[5 rows x 1825 columns]"
            ]
          },
          "metadata": {
            "tags": []
          },
          "execution_count": 31
        }
      ]
    },
    {
      "metadata": {
        "id": "uF7Usca6jnC1",
        "colab_type": "code",
        "colab": {}
      },
      "cell_type": "code",
      "source": [
        "tox21_descriptors_df = tox21_descriptors_df.fillna(0)"
      ],
      "execution_count": 0,
      "outputs": []
    },
    {
      "metadata": {
        "id": "-NHLD8MEkCbZ",
        "colab_type": "code",
        "colab": {
          "base_uri": "https://localhost:8080/",
          "height": 34
        },
        "outputId": "8b5cfec3-bc2e-49a1-bd0f-d30667554514"
      },
      "cell_type": "code",
      "source": [
        "#inds = pd.isnull(tox21_descriptors_df).any(1).nonzero()[0]\n",
        "#print (inds)"
      ],
      "execution_count": 34,
      "outputs": [
        {
          "output_type": "stream",
          "text": [
            "[]\n"
          ],
          "name": "stdout"
        }
      ]
    },
    {
      "metadata": {
        "id": "ohzag8-mkV23",
        "colab_type": "code",
        "colab": {
          "base_uri": "https://localhost:8080/",
          "height": 235
        },
        "outputId": "07a36316-1fb1-485e-c272-47388810c27d"
      },
      "cell_type": "code",
      "source": [
        "import numpy as np\n",
        "tox21_descriptors_df.values\n"
      ],
      "execution_count": 61,
      "outputs": [
        {
          "output_type": "execute_result",
          "data": {
            "text/plain": [
              "array([[ 12.395521 ,  10.84718  ,   0.       , ...,  97.       ,\n",
              "          6.2569447,   3.4444444],\n",
              "       [ 11.370728 ,  10.500426 ,   0.       , ...,  90.       ,\n",
              "          5.3055553,   3.4444444],\n",
              "       [ 16.970295 ,  13.706131 ,   0.       , ..., 158.       ,\n",
              "          6.4305553,   4.4652777],\n",
              "       ...,\n",
              "       [ 17.179861 ,  13.8637705,   0.       , ..., 160.       ,\n",
              "          7.0416665,   4.3055553],\n",
              "       [ 16.356174 ,  12.977056 ,   0.       , ..., 148.       ,\n",
              "          6.0902777,   4.1527777],\n",
              "       [ 20.223017 ,  15.039709 ,   0.       , ..., 179.       ,\n",
              "          6.361111 ,   5.4444447]], dtype=float32)"
            ]
          },
          "metadata": {
            "tags": []
          },
          "execution_count": 61
        }
      ]
    },
    {
      "metadata": {
        "id": "HpY_0cnnnIGi",
        "colab_type": "code",
        "colab": {
          "base_uri": "https://localhost:8080/",
          "height": 34
        },
        "outputId": "6489fd9a-ff92-4f29-ad6d-ad0121e60df6"
      },
      "cell_type": "code",
      "source": [
        "tox21_descriptors_df.values.dtype"
      ],
      "execution_count": 63,
      "outputs": [
        {
          "output_type": "execute_result",
          "data": {
            "text/plain": [
              "dtype('O')"
            ]
          },
          "metadata": {
            "tags": []
          },
          "execution_count": 63
        }
      ]
    },
    {
      "metadata": {
        "id": "7IgM83mXoEjW",
        "colab_type": "code",
        "colab": {}
      },
      "cell_type": "code",
      "source": [
        "tox21_d=np.array(tox21_df.values, dtype=np.float32)\n",
        "tox21_descriptors_d=np.array(tox21_descriptors_df.values, dtype=np.float32)"
      ],
      "execution_count": 0,
      "outputs": []
    },
    {
      "metadata": {
        "id": "MGoefbIiyF3G",
        "colab_type": "code",
        "colab": {
          "base_uri": "https://localhost:8080/",
          "height": 34
        },
        "outputId": "56941a51-72ff-4940-870e-0fcf11c9dce1"
      },
      "cell_type": "code",
      "source": [
        "tox21_d.dtype\n",
        "tox21_descriptors_d.dtype"
      ],
      "execution_count": 66,
      "outputs": [
        {
          "output_type": "execute_result",
          "data": {
            "text/plain": [
              "dtype('float32')"
            ]
          },
          "metadata": {
            "tags": []
          },
          "execution_count": 66
        }
      ]
    },
    {
      "metadata": {
        "id": "YgqoUJ-Loeeq",
        "colab_type": "code",
        "colab": {}
      },
      "cell_type": "code",
      "source": [
        "x_train, y_train,x_test,y_test=iterative_train_test_split(tox21_df,tox21_descriptors_d,0.2)"
      ],
      "execution_count": 0,
      "outputs": []
    },
    {
      "metadata": {
        "id": "fc_-9yUmww4T",
        "colab_type": "code",
        "colab": {
          "base_uri": "https://localhost:8080/",
          "height": 162
        },
        "outputId": "d789e62a-a16f-436e-f654-34184895f26e"
      },
      "cell_type": "code",
      "source": [
        "x_valid, y_valid=iterative_train_test_splits(x_train, y_train,0.2)"
      ],
      "execution_count": 1,
      "outputs": [
        {
          "output_type": "error",
          "ename": "NameError",
          "evalue": "ignored",
          "traceback": [
            "\u001b[0;31m---------------------------------------------------------------------------\u001b[0m",
            "\u001b[0;31mNameError\u001b[0m                                 Traceback (most recent call last)",
            "\u001b[0;32m<ipython-input-1-9fc4bb589f63>\u001b[0m in \u001b[0;36m<module>\u001b[0;34m()\u001b[0m\n\u001b[0;32m----> 1\u001b[0;31m \u001b[0mx_valid\u001b[0m\u001b[0;34m,\u001b[0m\u001b[0my_valid\u001b[0m\u001b[0;34m=\u001b[0m\u001b[0miterative_train_test_splits\u001b[0m\u001b[0;34m(\u001b[0m\u001b[0mx_train\u001b[0m\u001b[0;34m,\u001b[0m\u001b[0my_train\u001b[0m\u001b[0;34m,\u001b[0m\u001b[0;36m0.2\u001b[0m\u001b[0;34m)\u001b[0m\u001b[0;34m\u001b[0m\u001b[0;34m\u001b[0m\u001b[0m\n\u001b[0m",
            "\u001b[0;31mNameError\u001b[0m: name 'iterative_train_test_splits' is not defined"
          ]
        }
      ]
    },
    {
      "metadata": {
        "id": "s9uhKiLNzeBm",
        "colab_type": "code",
        "colab": {}
      },
      "cell_type": "code",
      "source": [
        ""
      ],
      "execution_count": 0,
      "outputs": []
    }
  ]
}