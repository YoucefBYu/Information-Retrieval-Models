{
  "nbformat": 4,
  "nbformat_minor": 0,
  "metadata": {
    "colab": {
      "name": "BooleanModel.ipynb",
      "version": "0.3.2",
      "provenance": [],
      "include_colab_link": true
    },
    "kernelspec": {
      "display_name": "Python 3",
      "language": "python",
      "name": "python3"
    }
  },
  "cells": [
    {
      "cell_type": "markdown",
      "metadata": {
        "id": "view-in-github",
        "colab_type": "text"
      },
      "source": [
        "<a href=\"https://colab.research.google.com/github/YoucefBYu/Information-Retrieval-Models/blob/master/BooleanModel.ipynb\" target=\"_parent\"><img src=\"https://colab.research.google.com/assets/colab-badge.svg\" alt=\"Open In Colab\"/></a>"
      ]
    },
    {
      "metadata": {
        "id": "Jq0CKPcoYquJ",
        "colab_type": "text"
      },
      "cell_type": "markdown",
      "source": [
        
        "\n",
        "#  BOOLEAN RETRIEVAL MODEL\n",
        "\n",
        "Documents collection:\n",
        "    1. Doc1= \"English tutorial and fast track\"\n",
        "    2. Doc2 = \"learning latent semantic indexing\"\n",
        "    3. Doc3 = \"Book on semantic indexing\"\n",
        "    4. Doc4 = \"Advance in structure and semantic indexing\"\n",
        "    5. Doc5 = \"Analysis of latent structure\"\n",
        "\n",
        "1.Build the term-document incidence matrix for those documents.\n",
        "\n",
        "2.Build the retrieval function that can answer A boolean query such as:\n",
        "\n",
        "    1. Query 1 = \"latent AND NOT learning\"\n",
        "    2. Query 2 = \"Advance and structure AND NOT analysis \"\n",
        "    3. Query 3 = \"(learning OR Analysis) AND latent\"\n"
      ]
    },
    {
      "metadata": {
        "id": "K9ffo2cHYquW",
        "colab_type": "code",
        "colab": {}
      },
      "cell_type": "code",
      "source": [
        "class BM:\n",
        "\n",
        "    D1 = \"English tutorial and fast track\"\n",
        "    D2 = \"learning latent semantic indexing\"\n",
        "    D3 = \"Book on semantic indexing\"\n",
        "    D4 = \"Advance in structure and semantic indexing\"\n",
        "    D5 = \"Analysis Analysis of latent structure\"\n",
        "\n",
        "    Data = {\"DOC1\": D1,\n",
        "            \"DOC2\": D2, \n",
        "            \"DOC3\": D3, \n",
        "            \"DOC4\": D4 ,\n",
        "            \"DOC5\": D5 }\n",
        "\n",
        "    StopWords = {\"ON\" , \"on\" , \n",
        "                 \"OF\" , \"of\" ,\n",
        "                 \"THE\", \"the\",\n",
        "                 \"AN\" , \"an\" ,\n",
        "                 \"A\"  , \"a\",\n",
        "                 \"IN\" , \"in\"  \n",
        "                 }\n",
        "\n",
        "    BooleanOperator = {'AND', 'OR', 'NOT','and','or','not'}\n",
        "    ## list of terms from the Data file collection\n",
        "    Ti=[]\n",
        "    #list of Distinct Terms\n",
        "    ti=[]\n",
        "    #Document collection terms\n",
        "    Di={}\n",
        "    #TermDocumentIncidenceMatrix \n",
        "    TermDocMatrix={}\n",
        "\n"
      ],
      "execution_count": 0,
      "outputs": []
    },
    {
      "metadata": {
        "id": "Vl7_xepLYqus",
        "colab_type": "code",
        "colab": {}
      },
      "cell_type": "code",
      "source": [
        "    #removing Stop Words\n",
        "    def RemoveStopWords(sentence):\n",
        "        terms=[]\n",
        "        for term in sentence.split() : \n",
        "            if term not in BM.StopWords :\n",
        "                terms.append(term)\n",
        "        return terms"
      ],
      "execution_count": 0,
      "outputs": []
    },
    {
      "metadata": {
        "scrolled": true,
        "id": "UJBUOFAMYqvB",
        "colab_type": "code",
        "colab": {}
      },
      "cell_type": "code",
      "source": [
        "    #list of Terms\n",
        "    def Terms(Data):\n",
        "        Terms=[]\n",
        "        for doc in Data:\n",
        "            Terms.append(RemoveStopWords(Data[doc].upper()))\n",
        "        Terms=[item for sublist in Terms for item in sublist]\n",
        "        return Terms\n",
        "    #list of Distinct Terms\n",
        "    def Distinctterms(Terms):\n",
        "        DistinctTerms=[]\n",
        "        for d in Terms :\n",
        "            if d not in DistinctTerms:\n",
        "                DistinctTerms.append(d)\n",
        "        return DistinctTerms\n",
        "\n",
        "    #Document collection terms\n",
        "    def DocumentColection(Data):\n",
        "        DocCollect={}\n",
        "        for doc in Data:\n",
        "            if doc not in BM.BooleanOperator :\n",
        "                DocCollect[doc]=Distinctterms(RemoveStopWords(Data[doc].upper()))\n",
        "        return DocCollect\n",
        "\n",
        "    def displayDict(D):\n",
        "        print(\"\\n\")\n",
        "        for i in D:\n",
        "            print (i , \" : \" ,D[i])\n",
        "        print(\"\\n\")\n"
      ],
      "execution_count": 0,
      "outputs": []
    },
    {
      "metadata": {
        "id": "8gvQ7NeFYqvR",
        "colab_type": "code",
        "colab": {
          "base_uri": "https://localhost:8080/",
          "height": 496
        },
        "outputId": "942f7d39-7ed3-4f47-cd7a-850f60868f3d"
      },
      "cell_type": "code",
      "source": [
        "    #Test \n",
        "    print(\"### Data files content ###\")\n",
        "    displayDict(BM.Data)\n",
        "    BM.Ti= Terms(BM.Data)\n",
        "    print (\"\\n### Terms in 5 docs ###\\n\" , *BM.Ti ,sep= \" | \")\n",
        "    #ti\n",
        "    BM.ti = Distinctterms(BM.Ti)\n",
        "    print (\"\\n### Distinct Terms in 5 DOCs###\\n\", *BM.ti ,sep=\" | \")\n",
        "    #Di\n",
        "    BM.Di= DocumentColection(BM.Data)\n",
        "    print (\"\\n###Document terms Collection ###\" )\n",
        "    displayDict(BM.Di)\n"
      ],
      "execution_count": 15,
      "outputs": [
        {
          "output_type": "stream",
          "text": [
            "### Data files content ###\n",
            "\n",
            "\n",
            "DOC1  :  English tutorial and fast track\n",
            "DOC2  :  learning latent semantic indexing\n",
            "DOC3  :  Book on semantic indexing\n",
            "DOC4  :  Advance in structure and semantic indexing\n",
            "DOC5  :  Analysis Analysis of latent structure\n",
            "\n",
            "\n",
            "\n",
            "### Terms in 5 docs ###\n",
            " | ENGLISH | TUTORIAL | AND | FAST | TRACK | LEARNING | LATENT | SEMANTIC | INDEXING | BOOK | SEMANTIC | INDEXING | ADVANCE | STRUCTURE | AND | SEMANTIC | INDEXING | ANALYSIS | ANALYSIS | LATENT | STRUCTURE\n",
            "\n",
            "### Distinct Terms in 5 DOCs###\n",
            " | ENGLISH | TUTORIAL | AND | FAST | TRACK | LEARNING | LATENT | SEMANTIC | INDEXING | BOOK | ADVANCE | STRUCTURE | ANALYSIS\n",
            "\n",
            "###Document terms Collection ###\n",
            "\n",
            "\n",
            "DOC1  :  ['ENGLISH', 'TUTORIAL', 'AND', 'FAST', 'TRACK']\n",
            "DOC2  :  ['LEARNING', 'LATENT', 'SEMANTIC', 'INDEXING']\n",
            "DOC3  :  ['BOOK', 'SEMANTIC', 'INDEXING']\n",
            "DOC4  :  ['ADVANCE', 'STRUCTURE', 'AND', 'SEMANTIC', 'INDEXING']\n",
            "DOC5  :  ['ANALYSIS', 'LATENT', 'STRUCTURE']\n",
            "\n",
            "\n"
          ],
          "name": "stdout"
        }
      ]
    },
    {
      "metadata": {
        "id": "DA7c45UEYqvx",
        "colab_type": "code",
        "colab": {}
      },
      "cell_type": "code",
      "source": [
        "    \n",
        "    def TermDocumentIncidenceMatrix(DocumentTermsCollection ,DistinctTerms):\n",
        "\n",
        "        TerDocMatrix={}\n",
        "        for term in DistinctTerms:\n",
        "            Vector=[]\n",
        "            for c in DocumentTermsCollection:\n",
        "\n",
        "                if term in DocumentTermsCollection[c]:\n",
        "                    Vector.append(1)\n",
        "                else :\n",
        "                    Vector.append(0)\n",
        "\n",
        "            TerDocMatrix[term]=Vector\n",
        "        return TerDocMatrix\n",
        "\n",
        "    \n",
        "    #Update Atribute \n",
        "    \n",
        "    BM.TerDocMatrix=TermDocumentIncidenceMatrix(BM.Di,BM.ti)\n",
        "    \n",
        "    def TermIncidenceVector(term):\n",
        "        return BM.TerDocMatrix[term]\n"
      ],
      "execution_count": 0,
      "outputs": []
    },
    {
      "metadata": {
        "id": "dwWmH1TJYqwM",
        "colab_type": "code",
        "colab": {
          "base_uri": "https://localhost:8080/",
          "height": 377
        },
        "outputId": "e9ca36f7-f7ee-463e-d1c3-caf93d0972f0"
      },
      "cell_type": "code",
      "source": [
        "    #Test of Functions \n",
        "    print(\"Term-Document incidence Matrix\\n\",BM.TerDocMatrix,)\n",
        "    #formatted Display \n",
        "    displayDict(BM.TerDocMatrix)\n",
        "    print (\"Incidence Victor of 'ENGLISH' \",TermIncidenceVector('ENGLISH'))"
      ],
      "execution_count": 17,
      "outputs": [
        {
          "output_type": "stream",
          "text": [
            "Term-Document incidence Matrix\n",
            " {'ENGLISH': [1, 0, 0, 0, 0], 'TUTORIAL': [1, 0, 0, 0, 0], 'AND': [1, 0, 0, 1, 0], 'FAST': [1, 0, 0, 0, 0], 'TRACK': [1, 0, 0, 0, 0], 'LEARNING': [0, 1, 0, 0, 0], 'LATENT': [0, 1, 0, 0, 1], 'SEMANTIC': [0, 1, 1, 1, 0], 'INDEXING': [0, 1, 1, 1, 0], 'BOOK': [0, 0, 1, 0, 0], 'ADVANCE': [0, 0, 0, 1, 0], 'STRUCTURE': [0, 0, 0, 1, 1], 'ANALYSIS': [0, 0, 0, 0, 1]}\n",
            "\n",
            "\n",
            "ENGLISH  :  [1, 0, 0, 0, 0]\n",
            "TUTORIAL  :  [1, 0, 0, 0, 0]\n",
            "AND  :  [1, 0, 0, 1, 0]\n",
            "FAST  :  [1, 0, 0, 0, 0]\n",
            "TRACK  :  [1, 0, 0, 0, 0]\n",
            "LEARNING  :  [0, 1, 0, 0, 0]\n",
            "LATENT  :  [0, 1, 0, 0, 1]\n",
            "SEMANTIC  :  [0, 1, 1, 1, 0]\n",
            "INDEXING  :  [0, 1, 1, 1, 0]\n",
            "BOOK  :  [0, 0, 1, 0, 0]\n",
            "ADVANCE  :  [0, 0, 0, 1, 0]\n",
            "STRUCTURE  :  [0, 0, 0, 1, 1]\n",
            "ANALYSIS  :  [0, 0, 0, 0, 1]\n",
            "\n",
            "\n",
            "Incidence Victor of 'ENGLISH'  [1, 0, 0, 0, 0]\n"
          ],
          "name": "stdout"
        }
      ]
    },
    {
      "metadata": {
        "id": "aD4Ad3P5Yqwo",
        "colab_type": "text"
      },
      "cell_type": "markdown",
      "source": [
        "<table>\n",
        "<tr><td>Terms/doc</td><td>D1</td> <td>D2 </td><td>D3</td>   <td>D4</td>   <td>D5</td></tr>\n",
        "<tr> <td>English </td><td>\t 1</td><td>\t0\t</td><td>0</td><td>\t0</td><td>\t0</td></tr>\n",
        "<tr> <td>Tutorial\t</td><td> 1</td><td>\t0</td><td>\t0</td><td>\t0</td><td>\t0</td></tr>\n",
        "<tr> <td>Fast\t    </td><td> 1\t</td><td>0</td><td>\t0</td><td>\t0</td><td>\t0</td></tr>\n",
        "<tr> <td>Track\t</td><td>     1</td><td>\t0</td><td>\t0</td><td>\t0</td><td>\t0</td></tr>\n",
        "<tr> <td>Books\t   </td><td>  0</td><td>\t1</td><td>\t0</td><td>\t0</td><td>\t0</td></tr>\n",
        "<tr> <td>Semantic</td><td>\t 0</td><td>1</td><td>\t1</td><td>\t1</td><td>\t0</td></tr>\n",
        "<tr> <td>Analysis\t</td><td> 0</td><td>\t1\t</td><td>0\t</td><td>0</td><td>\t1</td></tr>\n",
        "<tr> <td>Learning</td><td>\t 0</td><td>\t0</td><td>\t1</td><td>\t0</td><td>\t0</td></tr>\n",
        "<tr> <td>Latent</td><td>\t 0\t</td><td>0</td><td>\t1</td><td>\t0</td><td>\t1</td></tr>\n",
        "<tr> <td>Indexing\t</td><td> 0\t</td><td>0</td><td>\t1</td><td>\t1</td><td>\t0</td></tr>\n",
        "<tr> <td>Advance</td><td> 0</td><td>\t0\t</td><td>0\t</td><td>1</td><td>\t0</td></tr>\n",
        "<tr> <td>Structures</td><td> 0</td><td>\t0</td><td>\t0</td><td>\t1</td><td>\t1</td></tr>\n",
        "<table>"
      ]
    },
    {
      "metadata": {
        "id": "IJvTG0HyYqwu",
        "colab_type": "code",
        "colab": {}
      },
      "cell_type": "code",
      "source": [
        "    #Query Filtration \n",
        "    #input : Query \n",
        "    #output : List of terms of a given query which mach with the terms in our datafiles\n",
        "    def Quryfilteration(Query):\n",
        "      Qterms=[]\n",
        "      Q=Query.upper().split()\n",
        "      for Qterm in Q:\n",
        "          if Qterm in BM.ti or Qterm in BM.BooleanOperator :\n",
        "              Qterms.append(Qterm)\n",
        "      return Qterms"
      ],
      "execution_count": 0,
      "outputs": []
    },
    {
      "metadata": {
        "id": "sALNDI0oYqxQ",
        "colab_type": "code",
        "colab": {
          "base_uri": "https://localhost:8080/",
          "height": 34
        },
        "outputId": "e645d714-d29a-4c5a-cb91-3a09ad040180"
      },
      "cell_type": "code",
      "source": [
        "# Test Qfiltration function \n",
        "Query=\"advance and structure AND NOT analysis\"\n",
        "Qtems=Quryfilteration(Query)\n",
        "print(Qtems)"
      ],
      "execution_count": 19,
      "outputs": [
        {
          "output_type": "stream",
          "text": [
            "['ADVANCE', 'AND', 'STRUCTURE', 'AND', 'NOT', 'ANALYSIS']\n"
          ],
          "name": "stdout"
        }
      ]
    },
    {
      "metadata": {
        "id": "J1wcLlsFYqx2",
        "colab_type": "code",
        "colab": {}
      },
      "cell_type": "code",
      "source": [
        "    # Boolean Operator Processing \n",
        "    # input : Boolean Operator ,Next term Incedence Vector ,Previous term Incedence Vector \n",
        "    # output : \n",
        "    def BooleanOperatorProcessing(BoolOperator,PrevV,NextV):\n",
        "        result=[]\n",
        "        if BoolOperator == \"AND\":\n",
        "            for a , b in zip(NextV,PrevV) :\n",
        "                if a==1 and b==1 :\n",
        "                    result.append(1)\n",
        "                else :\n",
        "                    result.append(0)\n",
        "        elif BoolOperator==\"OR\" :\n",
        "            for a,b in zip(NextV,PrevV) :\n",
        "                if a==0 and b==0 :\n",
        "                    result.append(0)\n",
        "                else :\n",
        "                    result.append(1)\n",
        "        elif BoolOperator == \"NOT\":\n",
        "            for b in PrevV :\n",
        "                if b == 1 :\n",
        "                    result.append(0)\n",
        "                else :\n",
        "                    result.append(1)\n",
        "        return result"
      ],
      "execution_count": 0,
      "outputs": []
    },
    {
      "metadata": {
        "id": "igl1wzruYqyC",
        "colab_type": "code",
        "colab": {
          "base_uri": "https://localhost:8080/",
          "height": 68
        },
        "outputId": "5770df6c-36da-4257-b3e8-356195e011a0"
      },
      "cell_type": "code",
      "source": [
        "v1=[0,1,0,1]\n",
        "v2=[0,0,1,1]\n",
        "v3=[]\n",
        "print(BooleanOperatorProcessing(\"AND\",v1,v2))\n",
        "print(BooleanOperatorProcessing(\"OR\",v1,v2))\n",
        "print(BooleanOperatorProcessing(\"NOT\",v1,v3))"
      ],
      "execution_count": 21,
      "outputs": [
        {
          "output_type": "stream",
          "text": [
            "[0, 0, 0, 1]\n",
            "[0, 1, 1, 1]\n",
            "[1, 0, 1, 0]\n"
          ],
          "name": "stdout"
        }
      ]
    },
    {
      "metadata": {
        "id": "8mEZVG3nYqyX",
        "colab_type": "code",
        "colab": {}
      },
      "cell_type": "code",
      "source": [
        "    # Boolean retrieval fuction\n",
        "    # input : Query \n",
        "    # output : if Documet is relevet > 1 else >0\n",
        "    # \n",
        "    def QueryProcessing(Query):\n",
        "        Bitwiseop=\"\"\n",
        "        QTterms=Quryfilteration(Query)\n",
        "        result=[]\n",
        "        resultSet={}\n",
        "        hasPreviousterm=False\n",
        "        hasntOperation=False\n",
        "        IncVicPreAnd=[]\n",
        "        IncVicNexAnd=[]\n",
        "        for term in QTterms :\n",
        "            if term not in BM.BooleanOperator:\n",
        "                if hasntOperation:\n",
        "                    if hasPreviousterm:\n",
        "                        IncVicNexAnd=BooleanOperatorProcessing(\"NOT\",TermIncidenceVector(term),IncVicNexAnd)\n",
        "                    else :\n",
        "                        IncVicPreAnd=BooleanOperatorProcessing(\"NOT\",TermIncidenceVector(term),IncVicNexAnd)\n",
        "                        result=IncVicPreAnd\n",
        "                    hasntOperation=False\n",
        "                    \n",
        "                elif  hasPreviousterm :\n",
        "                    \n",
        "                    IncVicNexAnd=TermIncidenceVector(term)\n",
        "                else :\n",
        "                    \n",
        "                    IncVicPreAnd=TermIncidenceVector(term)\n",
        "                    result=IncVicPreAnd\n",
        "                    hasPreviousterm=True    \n",
        "            \n",
        "            elif term ==\"NOT\":\n",
        "                hasntOperation=True\n",
        "            \n",
        "            else :\n",
        "                Bitwiseop=term\n",
        "                \n",
        "            if  len(IncVicNexAnd)!= 0  :\n",
        "                result = BooleanOperatorProcessing(Bitwiseop,IncVicPreAnd,IncVicNexAnd)\n",
        "                IncVicPreAnd=result\n",
        "                hasPreviousterm=True\n",
        "                IncVicNexAnd= []\n",
        "    \n",
        "        for i,doc in zip(result,BM.Data):\n",
        "            resultSet[doc]=i\n",
        "        return resultSet"
      ],
      "execution_count": 0,
      "outputs": []
    },
    {
      "metadata": {
        "id": "h-WGTfE7Yqyv",
        "colab_type": "code",
        "colab": {
          "base_uri": "https://localhost:8080/",
          "height": 68
        },
        "outputId": "06a27cc5-3dbf-4742-a4a6-1da055dcc084"
      },
      "cell_type": "code",
      "source": [
        "    Q1=\"latent AND NOT learning\"\n",
        "    Q2=\"advance and structure and not analysis\"\n",
        "    Q3=\"learning OR Analysis AND latent\"\n",
        "    \n",
        "    print(\"Query1 processing result \",QueryProcessing(Q1))\n",
        "    print(\"Query2 processing result \",QueryProcessing(Q2))\n",
        "    print(\"Query3 processing result \",QueryProcessing(Q3))"
      ],
      "execution_count": 23,
      "outputs": [
        {
          "output_type": "stream",
          "text": [
            "Query1 processing result  {'DOC1': 0, 'DOC2': 0, 'DOC3': 0, 'DOC4': 0, 'DOC5': 1}\n",
            "Query2 processing result  {'DOC1': 0, 'DOC2': 0, 'DOC3': 0, 'DOC4': 1, 'DOC5': 0}\n",
            "Query3 processing result  {'DOC1': 0, 'DOC2': 1, 'DOC3': 0, 'DOC4': 0, 'DOC5': 1}\n"
          ],
          "name": "stdout"
        }
      ]
    },
    {
      "metadata": {
        "id": "WR9tNW7XYqzM",
        "colab_type": "code",
        "colab": {}
      },
      "cell_type": "code",
      "source": [
        ""
      ],
      "execution_count": 0,
      "outputs": []
    }
  ]
}
